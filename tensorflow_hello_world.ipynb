{
  "nbformat": 4,
  "nbformat_minor": 0,
  "metadata": {
    "colab": {
      "name": "tensorflow-hello world.ipynb",
      "version": "0.3.2",
      "provenance": [],
      "include_colab_link": true
    },
    "kernelspec": {
      "name": "python3",
      "display_name": "Python 3"
    }
  },
  "cells": [
    {
      "cell_type": "markdown",
      "metadata": {
        "id": "view-in-github",
        "colab_type": "text"
      },
      "source": [
        "[View in Colaboratory](https://colab.research.google.com/github/toanchitran/tensorflow/blob/master/tensorflow_hello_world.ipynb)"
      ]
    },
    {
      "metadata": {
        "id": "TdnfaPEmIRFL",
        "colab_type": "code",
        "colab": {}
      },
      "cell_type": "code",
      "source": [
        "import tensorflow as tf"
      ],
      "execution_count": 0,
      "outputs": []
    },
    {
      "metadata": {
        "id": "Nz8JVBzRIa_t",
        "colab_type": "code",
        "colab": {}
      },
      "cell_type": "code",
      "source": [
        "a = tf.constant([2])\n",
        "b = tf.constant([3])"
      ],
      "execution_count": 0,
      "outputs": []
    },
    {
      "metadata": {
        "id": "2oaGAmkyImHy",
        "colab_type": "code",
        "colab": {}
      },
      "cell_type": "code",
      "source": [
        "c = tf.add(a, b)"
      ],
      "execution_count": 0,
      "outputs": []
    },
    {
      "metadata": {
        "id": "lGZsp1W5Isnq",
        "colab_type": "code",
        "colab": {}
      },
      "cell_type": "code",
      "source": [
        "session = tf.Session()"
      ],
      "execution_count": 0,
      "outputs": []
    },
    {
      "metadata": {
        "id": "jWqRKZDXIztV",
        "colab_type": "code",
        "colab": {
          "base_uri": "https://localhost:8080/",
          "height": 34
        },
        "outputId": "39d264cf-5458-4f6f-c0a4-d338b2f75632"
      },
      "cell_type": "code",
      "source": [
        "result = session.run(c)\n",
        "print(result)"
      ],
      "execution_count": 5,
      "outputs": [
        {
          "output_type": "stream",
          "text": [
            "[5]\n"
          ],
          "name": "stdout"
        }
      ]
    },
    {
      "metadata": {
        "id": "diS3IRWmJA0N",
        "colab_type": "code",
        "colab": {
          "base_uri": "https://localhost:8080/",
          "height": 434
        },
        "outputId": "d15468d5-adbe-491f-ed37-9d47ea7a1f6e"
      },
      "cell_type": "code",
      "source": [
        "Scalar = tf.constant([2])\n",
        "Vector = tf.constant([5,6,2])\n",
        "Matrix = tf.constant([[1,2,3],[2,3,4],[3,4,5]])\n",
        "Tensor = tf.constant([ [[1,2,3],[2,3,4],[3,4,5]], [[4,5,6],[5,6,7],[6,7,8]], [[7,8,9],[8,9,10],[9,10,11]] ])\n",
        "with tf.Session() as session:\n",
        "  result = session.run(Scalar)\n",
        "  print (\"Scalar (1 entry):\\n %s \\n\" % result)\n",
        "  result = session.run(Vector)\n",
        "  print (\"Vector (3 entries) :\\n %s \\n\" % result)\n",
        "  result = session.run(Matrix)\n",
        "  print (\"Matrix (3x3 entries):\\n %s \\n\" % result)\n",
        "  result = session.run(Tensor)\n",
        "  print (\"Tensor (3x3x3 entries) :\\n %s \\n\" % result)"
      ],
      "execution_count": 6,
      "outputs": [
        {
          "output_type": "stream",
          "text": [
            "Scalar (1 entry):\n",
            " [2] \n",
            "\n",
            "Vector (3 entries) :\n",
            " [5 6 2] \n",
            "\n",
            "Matrix (3x3 entries):\n",
            " [[1 2 3]\n",
            " [2 3 4]\n",
            " [3 4 5]] \n",
            "\n",
            "Tensor (3x3x3 entries) :\n",
            " [[[ 1  2  3]\n",
            "  [ 2  3  4]\n",
            "  [ 3  4  5]]\n",
            "\n",
            " [[ 4  5  6]\n",
            "  [ 5  6  7]\n",
            "  [ 6  7  8]]\n",
            "\n",
            " [[ 7  8  9]\n",
            "  [ 8  9 10]\n",
            "  [ 9 10 11]]] \n",
            "\n"
          ],
          "name": "stdout"
        }
      ]
    },
    {
      "metadata": {
        "id": "--Okxi1_KRUO",
        "colab_type": "code",
        "colab": {
          "base_uri": "https://localhost:8080/",
          "height": 295
        },
        "outputId": "66de32e2-9b53-4bac-c758-37ffea1a5cf9"
      },
      "cell_type": "code",
      "source": [
        "Matrix_one = tf.constant([[1,2,3], [2,3,4], [3,4,5]])\n",
        "Matrix_two = tf.constant([[2,2,2], [2,2,2], [2,2,2]])\n",
        "\n",
        "first_operation = tf.add(Matrix_one, Matrix_two)\n",
        "second_operation = Matrix_one + Matrix_two\n",
        "third_operation = tf.matmul(Matrix_one, Matrix_two)\n",
        "f_operation = tf.tensordot(Matrix_one, Matrix_two, axes=[[1],[0]])\n",
        "\n",
        "with tf.Session() as session:\n",
        "    result = session.run(first_operation)\n",
        "    print (\"Defined using tensorflow function :\")\n",
        "    print(result)\n",
        "    result = session.run(second_operation)\n",
        "    print (\"Defined using normal expressions :\")\n",
        "    print(result)\n",
        "    result = session.run(third_operation)\n",
        "    print (\"Defined using normal expressions :\")\n",
        "    print(result)\n",
        "    result = session.run(f_operation)\n",
        "    print (\"Defined using normal expressions :\")\n",
        "    print(result)"
      ],
      "execution_count": 18,
      "outputs": [
        {
          "output_type": "stream",
          "text": [
            "Defined using tensorflow function :\n",
            "[[3 4 5]\n",
            " [4 5 6]\n",
            " [5 6 7]]\n",
            "Defined using normal expressions :\n",
            "[[3 4 5]\n",
            " [4 5 6]\n",
            " [5 6 7]]\n",
            "Defined using normal expressions :\n",
            "[[12 12 12]\n",
            " [18 18 18]\n",
            " [24 24 24]]\n",
            "Defined using normal expressions :\n",
            "[[12 12 12]\n",
            " [18 18 18]\n",
            " [24 24 24]]\n"
          ],
          "name": "stdout"
        }
      ]
    },
    {
      "metadata": {
        "id": "-Y6UxLE_Kwt6",
        "colab_type": "code",
        "colab": {}
      },
      "cell_type": "code",
      "source": [
        "import numpy as np\n",
        "import matplotlib.pyplot as plt\n",
        "import matplotlib.patches as mpatches\n",
        "%matplotlib inline\n",
        "plt.rcParams['figure.figsize'] = [10,6]"
      ],
      "execution_count": 0,
      "outputs": []
    },
    {
      "metadata": {
        "id": "2N6JMrRPN394",
        "colab_type": "code",
        "colab": {
          "base_uri": "https://localhost:8080/",
          "height": 388
        },
        "outputId": "98ea1640-10a4-4eb0-9e29-4a1940182c02"
      },
      "cell_type": "code",
      "source": [
        "X = np.arange(0.9, 5.0, 0.1)\n",
        "a=4\n",
        "b=8\n",
        "\n",
        "Y= a*X + b\n",
        "Y_2 = 1*X + 0\n",
        "\n",
        "plt.plot(X,Y)\n",
        "plt.plot(X, Y_2)\n",
        "plt.ylabel('Dependent Variable')\n",
        "plt.xlabel('Indepdendent Variable')\n",
        "plt.show()"
      ],
      "execution_count": 23,
      "outputs": [
        {
          "output_type": "display_data",
          "data": {
            "image/png": "[encoded data removed]",
            "text/plain": [
              "<matplotlib.figure.Figure at 0x7f1901acbac8>"
            ]
          },
          "metadata": {
            "tags": []
          }
        }
      ]
    },
    {
      "metadata": {
        "id": "u5FrQYkKOMOj",
        "colab_type": "code",
        "colab": {}
      },
      "cell_type": "code",
      "source": [
        "## Linear regression with Tensorflow\n",
        "\n",
        "x_data = np.random.rand(100).astype(np.float32)\n",
        "\n",
        "y_data = x_data * 3 + 2\n",
        "y_data = np.vectorize(lambda y: y + np.random.normal(loc=0.0, scale=0.1))(y_data)\n",
        "\n",
        "a = tf.Variable(1.0)\n",
        "b = tf.Variable(0.2)\n",
        "y = a * x_data + b\n",
        "\n",
        "loss = tf.reduce_mean(tf.square(y - y_data))\n",
        "optimizer = tf.train.GradientDescentOptimizer(0.5)\n",
        "train = optimizer.minimize(loss)\n",
        "\n",
        "init = tf.global_variables_initializer()\n",
        "sess = tf.Session()\n",
        "sess.run(init)"
      ],
      "execution_count": 0,
      "outputs": []
    },
    {
      "metadata": {
        "id": "yFFUDCRvQ64c",
        "colab_type": "code",
        "colab": {
          "base_uri": "https://localhost:8080/",
          "height": 364
        },
        "outputId": "d2098cc6-1ca0-41e8-8753-9cc78c4f1ede"
      },
      "cell_type": "code",
      "source": [
        "train_data = []\n",
        "for step in range(100):\n",
        "    evals = sess.run([train,a,b])[1:]\n",
        "    if step % 5 == 0:\n",
        "        print(step, evals)\n",
        "        train_data.append(evals)"
      ],
      "execution_count": 30,
      "outputs": [
        {
          "output_type": "stream",
          "text": [
            "0 [2.5773954, 2.9974167]\n",
            "5 [2.455899, 2.2768734]\n",
            "10 [2.6063836, 2.196722]\n",
            "15 [2.7148106, 2.138095]\n",
            "20 [2.7932, 2.0957108]\n",
            "25 [2.8498726, 2.0650687]\n",
            "30 [2.890845, 2.0429153]\n",
            "35 [2.9204667, 2.0268993]\n",
            "40 [2.941882, 2.0153203]\n",
            "45 [2.9573643, 2.0069492]\n",
            "50 [2.9685576, 2.000897]\n",
            "55 [2.97665, 1.9965216]\n",
            "60 [2.9825003, 1.9933584]\n",
            "65 [2.98673, 1.9910715]\n",
            "70 [2.989788, 1.9894181]\n",
            "75 [2.991999, 1.9882226]\n",
            "80 [2.9935973, 1.9873585]\n",
            "85 [2.994753, 1.9867337]\n",
            "90 [2.9955883, 1.9862819]\n",
            "95 [2.9961922, 1.9859554]\n"
          ],
          "name": "stdout"
        }
      ]
    },
    {
      "metadata": {
        "id": "RaUuSdQrR1cF",
        "colab_type": "code",
        "colab": {
          "base_uri": "https://localhost:8080/",
          "height": 374
        },
        "outputId": "131df037-683e-41d8-8dfe-f0b6cecfaf24"
      },
      "cell_type": "code",
      "source": [
        "converter = plt.colors\n",
        "cr, cg, cb = (1.0, 1.0, 0.0)\n",
        "for f in train_data:\n",
        "    cb += 1.0 / len(train_data)\n",
        "    cg -= 1.0 / len(train_data)\n",
        "    if cb > 1.0: cb = 1.0\n",
        "    if cg < 0.0: cg = 0.0\n",
        "    [a, b] = f\n",
        "    f_y = np.vectorize(lambda x: a*x + b)(x_data)\n",
        "    line = plt.plot(x_data, f_y)\n",
        "    plt.setp(line, color=(cr,cg,cb))\n",
        "\n",
        "plt.plot(x_data, y_data, 'ro')\n",
        "\n",
        "\n",
        "green_line = mpatches.Patch(color='red', label='Data Points')\n",
        "\n",
        "plt.legend(handles=[green_line])\n",
        "\n",
        "plt.show()"
      ],
      "execution_count": 31,
      "outputs": [
        {
          "output_type": "display_data",
          "data": {
            "image/png": "[encoded data removed]",
            "text/plain": [
              "<matplotlib.figure.Figure at 0x7f1901918438>"
            ]
          },
          "metadata": {
            "tags": []
          }
        }
      ]
    }
  ]
}